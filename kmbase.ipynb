{
 "cells": [
  {
   "cell_type": "code",
   "execution_count": 1,
   "metadata": {},
   "outputs": [],
   "source": [
    "from selenium import webdriver as wd\n",
    "from selenium.webdriver.common.by import By\n",
    "from selenium.webdriver.support.ui import WebDriverWait\n",
    "from selenium.webdriver.support import expected_conditions as EC\n",
    "from selenium.webdriver.chrome.service import Service\n",
    "from webdriver_manager.chrome import ChromeDriverManager\n",
    "from bs4 import BeautifulSoup\n",
    "import time\n",
    "import pandas as pd\n",
    "import requests\n",
    "import re\n",
    "from selenium.webdriver.common.keys import Keys\n",
    "from tqdm import tqdm\n",
    "from pathlib import Path"
   ]
  },
  {
   "cell_type": "code",
   "execution_count": 3,
   "metadata": {},
   "outputs": [],
   "source": [
    "def searchKeywords(driver, selector, keyword):\n",
    "    search = WebDriverWait(driver, 10).until(EC.presence_of_element_located((By.CSS_SELECTOR, selector)))\n",
    "    search.click()\n",
    "    search.send_keys(keyword)\n",
    "    search.send_keys(Keys.RETURN)\n",
    "    \n",
    "def getTitle(source, css_title, css_title2):\n",
    "    soup = BeautifulSoup(source, 'lxml')\n",
    "    titles_kor = soup.select(css_title)\n",
    "    titles_eng = soup.select(css_title2)\n",
    "\n",
    "    return titles_kor, titles_eng\n",
    "\n",
    "def checkBlank(list: list):\n",
    "    return \"\" if len(list) ==0 else list.text\n",
    "\n",
    "def post_processing_text(text):\n",
    "    return text.replace('\\n', '').replace('\\t', '') if text is not None else text"
   ]
  },
  {
   "cell_type": "code",
   "execution_count": 2,
   "metadata": {},
   "outputs": [],
   "source": [
    "def kmbase_crawling_title(keyword:str, url:str):\n",
    "\n",
    "    driver = wd.Chrome(service=Service(ChromeDriverManager().install()))\n",
    "    driver.get(url)\n",
    "\n",
    "    # keywords\n",
    "    keyword_selector = \"input#ctl13_KW\"\n",
    "    searchKeywords(driver, keyword_selector, keyword)\n",
    "    \n",
    "    # Looping in pages\n",
    "    selector_pages = \"tr.gridePaging > td > table > tbody > tr > td\"\n",
    "    num:int = 1 \n",
    "    title_list = []\n",
    "    html_source = driver.page_source\n",
    "    selector_title = \"div.ch_pan > div.ch_co > ul > li:nth-child(1) > a > font\"\n",
    "    selector_title2 = \"div.ch_pan > div.ch_co > ul > li:nth-child(2) > a > font\"\n",
    "    while True:\n",
    "        # Find title\n",
    "        titles_kor, titles_eng = getTitle(html_source, selector_title, selector_title2)\n",
    "        for i in range(len(titles_kor)):\n",
    "            if titles_kor[i].text == \"\":\n",
    "                title_list.append(titles_eng[i].text)\n",
    "            else:\n",
    "                title_list.append(titles_kor[i].text)\n",
    "        pages = driver.find_elements(By.CSS_SELECTOR, selector_pages)\n",
    "        # Pagination\n",
    "        if pages[num-1].text != \"...\" and pages[num-1].text == pages[-1].text:\n",
    "            print(\"Job finished!\")\n",
    "            break\n",
    "        elif pages[num].text == \"...\":\n",
    "            pages[num].click()\n",
    "            num = 3\n",
    "        else:\n",
    "            pages[num].click()\n",
    "            num += 1\n",
    "    #  list to data.frame\n",
    "    df = pd.DataFrame(title_list)\n",
    "    df.to_csv(f\"kmbase_title_{keyword}.csv\")"
   ]
  },
  {
   "cell_type": "code",
   "execution_count": 5,
   "metadata": {},
   "outputs": [],
   "source": [
    "def kmbase_crawling(url, keyword):\n",
    "    keyword_selector = \"input#ctl13_KW\"\n",
    "    driver = wd.Chrome(service=Service(ChromeDriverManager().install()))\n",
    "    driver.get(url)\n",
    "\n",
    "    searchKeywords(driver, keyword_selector, keyword)\n",
    "    selector_pages = \"tr.gridePaging > td > table > tbody > tr > td\"\n",
    "    num:int = 1 \n",
    "    title_list = []\n",
    "    urls_list = []\n",
    "    # Crawling urls\n",
    "    while True:\n",
    "        html_source = driver.page_source\n",
    "        soup = BeautifulSoup(html_source, 'lxml')\n",
    "        selector_title = \"div.ch_pan > div.ch_co > ul > li:nth-child(1) > a\"\n",
    "        urls = [url + a['href'] for a in soup.select(selector_title)]\n",
    "        urls_list.extend(urls)\n",
    "        pages = driver.find_elements(By.CSS_SELECTOR, selector_pages)\n",
    "        # Pagination\n",
    "        if pages[num-1].text != \"...\" and pages[num-1].text == pages[-1].text:\n",
    "            print(\"Crawling urls finished!\")\n",
    "            driver.quit()\n",
    "            break\n",
    "        elif pages[num].text == \"...\":\n",
    "            pages[num].click()\n",
    "            num = 3\n",
    "        else:\n",
    "            pages[num].click()\n",
    "            num += 1\n",
    "\n",
    "    # Crawling HTML sources \n",
    "    html_sources = []\n",
    "    crawling_result_list = []\n",
    "    for url in tqdm(urls_list, desc=\"Processing items\"):\n",
    "        driver = wd.Chrome(service=Service(ChromeDriverManager().install()))\n",
    "        driver.get(url)\n",
    "        html_source = driver.page_source\n",
    "        html_sources.append(html_source)\n",
    "    print(\"Crawling source finishhed!\")\n",
    "    \n",
    "    # Crawling abstract info\n",
    "    for source in tqdm(html_sources):\n",
    "        selector_title = \"div#abstractview > div.hd-inner > h2.hd-heading\"\n",
    "        selector_author = \"div#abstractview > div > span#ctl14_ctl01_ctl00_authinfo\"\n",
    "        selector_journal = \"div#abstractview > div > span.fontview\"\n",
    "        selector_doi = \"div#abstractview > div.fontlink > span.fontlink > a\"\n",
    "        selector_abstract = \"div#abstractview > div > span#ctl14_ctl01_ctl00_abstract_eng\"\n",
    "        soup = BeautifulSoup(source, 'lxml')\n",
    "\n",
    "        title_list = soup.select(selector_title)\n",
    "        author_list = soup.select(selector_author)\n",
    "        journal_list = soup.select(selector_journal)\n",
    "        doi_list = soup.select(selector_doi)\n",
    "        abstract_list = soup.select(selector_abstract)\n",
    "\n",
    "        for title, author, journal, doi, abstract in zip(title_list, author_list, journal_list, doi_list, abstract_list):\n",
    "            title_edit = post_processing_text(title.text)\n",
    "            author_edit = post_processing_text(author.text)\n",
    "            doi_edit = post_processing_text(doi.text)\n",
    "            journal_edit = post_processing_text(journal.text)\n",
    "            abstract_dict = {\"title\": title_edit, \"author\": author_edit, \"journal\": journal_edit,\n",
    "                            \"doi\": doi_edit, \"abstract\": abstract.text}\n",
    "            crawling_result_list.append(abstract_dict)  \n",
    "\n",
    "    df = pd.DataFrame(crawling_result_list)\n",
    "    if ~Path(\"kmbase/\").exists():\n",
    "        Path.mkdir(\"kmbase/\")\n",
    "    df.to_csv(f\"kmbase/kmbase_{keyword}.csv\")\n",
    "    print(\"Job finished!\")"
   ]
  },
  {
   "cell_type": "code",
   "execution_count": 6,
   "metadata": {},
   "outputs": [
    {
     "name": "stdout",
     "output_type": "stream",
     "text": [
      "Crawling urls finished!\n"
     ]
    },
    {
     "name": "stderr",
     "output_type": "stream",
     "text": [
      "Processing items: 100%|██████████| 768/768 [1:48:46<00:00,  8.50s/it]\n"
     ]
    },
    {
     "name": "stdout",
     "output_type": "stream",
     "text": [
      "Crawling source finishhed!\n"
     ]
    },
    {
     "name": "stderr",
     "output_type": "stream",
     "text": [
      "100%|██████████| 768/768 [00:04<00:00, 156.01it/s]\n"
     ]
    }
   ],
   "source": [
    "url = \"https://kmbase.medric.or.kr\"\n",
    "keyword = \"Pharmacist\"\n",
    "kmbase_crawling_abstract(url = url, keyword=keyword)"
   ]
  }
 ],
 "metadata": {
  "kernelspec": {
   "display_name": "Python 3",
   "language": "python",
   "name": "python3"
  },
  "language_info": {
   "codemirror_mode": {
    "name": "ipython",
    "version": 3
   },
   "file_extension": ".py",
   "mimetype": "text/x-python",
   "name": "python",
   "nbconvert_exporter": "python",
   "pygments_lexer": "ipython3",
   "version": "3.11.2"
  },
  "orig_nbformat": 4
 },
 "nbformat": 4,
 "nbformat_minor": 2
}
