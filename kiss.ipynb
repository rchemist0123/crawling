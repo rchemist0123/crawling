{
 "cells": [
  {
   "cell_type": "code",
   "execution_count": 2,
   "metadata": {},
   "outputs": [],
   "source": [
    "from selenium import webdriver as wd\n",
    "from selenium.webdriver.common.by import By\n",
    "from selenium.webdriver.support.ui import WebDriverWait\n",
    "from selenium.webdriver.support import expected_conditions as EC\n",
    "from selenium.webdriver.chrome.service import Service\n",
    "from webdriver_manager.chrome import ChromeDriverManager\n",
    "from bs4 import BeautifulSoup\n",
    "import time\n",
    "import pandas as pd\n",
    "import requests\n",
    "import re\n",
    "from selenium.webdriver.common.keys import Keys\n",
    "from tqdm import tqdm\n",
    "from pathlib import Path"
   ]
  },
  {
   "cell_type": "code",
   "execution_count": 25,
   "metadata": {},
   "outputs": [],
   "source": [
    "def searchKeywords(driver, selector:str, keyword:str):\n",
    "    search = WebDriverWait(driver, 10).until(EC.presence_of_element_located((By.CSS_SELECTOR, selector)))\n",
    "    search.click()\n",
    "    search.send_keys(keyword)\n",
    "    search.send_keys(Keys.RETURN)\n",
    "    \n",
    "def getTitle(source, selector_title):\n",
    "    soup = BeautifulSoup(source, 'lxml')\n",
    "    titles_kor = soup.select(selector_title)\n",
    "\n",
    "    return titles_kor\n",
    "\n",
    "def appendTitles(list:list, titles):\n",
    "    for i in titles:\n",
    "        list.append(i.text)\n",
    "\n",
    "def closePopup(driver, selector_popup):\n",
    "    popup = driver.find_elements(By.CSS_SELECTOR, selector_popup)\n",
    "    for i in range(len(popup)):\n",
    "        popup[i].click()\n",
    "    print(f\"{len(popup)} Popup closed.\")\n",
    "\n",
    "def checkBlank(list: list):\n",
    "    return \"\" if len(list) ==0 else list.text\n",
    "\n",
    "def post_processing_text(text):\n",
    "    return text.replace('\\n', '').replace('\\t', '') if text is not None else text"
   ]
  },
  {
   "cell_type": "code",
   "execution_count": 51,
   "metadata": {},
   "outputs": [],
   "source": [
    "def kiss_crawling(keyword):\n",
    "\n",
    "    driver = wd.Chrome(service=Service(ChromeDriverManager().install()))\n",
    "\n",
    "    crawling_result_list = []\n",
    "    driver.get(\"https://kiss.kstudy.com\")\n",
    "\n",
    "    # popup\n",
    "    selector_popup_close = \"div.pop_main_wrap > div.foot > div > div:nth-child(3) > a\"\n",
    "    closePopup(driver, selector_popup_close)\n",
    "\n",
    "    # Search with Keywords\n",
    "    selector_search = \"#query\"\n",
    "    searchKeywords(driver, selector_search, keyword)\n",
    "\n",
    "    selector_page = \"#pagination > li.page-item > a\"\n",
    "    next = 1\n",
    "    # title_list = []\n",
    "    urls_list = []\n",
    "\n",
    "    # Pagination  & crawling urls\n",
    "    while True:\n",
    "        # pages = WebDriverWait(driver, 3).until(EC.presence_of_element_located((By.CSS_SELECTOR, selector_page))) \n",
    "        time.sleep(2)\n",
    "        pages = driver.find_elements(By.CSS_SELECTOR, selector_page)\n",
    "        html_source = driver.page_source\n",
    "        soup = BeautifulSoup(html_source, 'lxml')\n",
    "        selector_title = \"div.title > a\"\n",
    "        urls = [url + \"/DetailOa/Ar?key=\" + a[\"href\"][29:37] for a in soup.select(selector_title) ]\n",
    "        urls_list.extend(urls)\n",
    "        # titles = getTitle(html_source, selector_title)\n",
    "        # appendTitles(title_list, titles)\n",
    "        if pages[-1].get_attribute(\"id\") != \"next\": # Last page\n",
    "            pages[-1].click()\n",
    "            # titles = getTitle(html_source, selector_title)\n",
    "            # appendTitles(title_list, titles)\n",
    "            selector_title = \"div.title > a\"\n",
    "            urls = [url + \"/DetailOa/Ar?key=\" + a[\"href\"][29:37] for a in soup.select(selector_title) ]\n",
    "            urls_list.extend(urls)\n",
    "            print(\"Crawling URLs Done!\")\n",
    "            driver.quit()\n",
    "            break\n",
    "        elif pages[next].get_attribute(\"id\") == \"next\": # prev, next\n",
    "            pages[next].click()\n",
    "            next = 2\n",
    "        else:\n",
    "            pages[next].click()\n",
    "            next += 1\n",
    "            \n",
    "    html_sources = []\n",
    "    crawling_result_list = []\n",
    "    for url in tqdm(urls_list, desc=\"Crawling HTML sources\"):\n",
    "        driver = wd.Chrome(service=Service(ChromeDriverManager().install()))\n",
    "        driver.get(url)\n",
    "        html_source = driver.page_source\n",
    "        html_sources.append(html_source)\n",
    "    print(\"Crawling source finishhed!\")\n",
    "\n",
    "    for source in tqdm(html_sources, desc=\"Crawling abstracts\"):\n",
    "        selector_title = \"div.title\"\n",
    "        selector_author = \"div.author.mb-1\"\n",
    "        selector_journal = \"div.mb-1 > a > span.value\"\n",
    "        selector_year = \"div.mb-1 > span.value\"\n",
    "        selector_doi = \"div.col-12 > div.mb-1 > span.value.color_font_gray\"\n",
    "        selector_abstract = \"div#collapse-part1 > div.wrap_part_body\"\n",
    "        soup = BeautifulSoup(source, 'lxml')\n",
    "\n",
    "        title_list = soup.select(selector_title)\n",
    "        author_list = soup.select(selector_author)\n",
    "        year_list = soup.select(selector_year)\n",
    "        journal_list = soup.select(selector_journal)\n",
    "        doi_list = soup.select(selector_doi)\n",
    "        abstract_list = soup.select(selector_abstract)\n",
    "\n",
    "        for title, author, journal, year, doi, abstract in zip(title_list, author_list, journal_list, year_list, doi_list, abstract_list):\n",
    "            title_edit = post_processing_text(title.text)\n",
    "            author_edit = post_processing_text(author.text)\n",
    "            journal_edit = post_processing_text(journal.text)\n",
    "            year_edit = post_processing_text(year.text)\n",
    "            doi_edit = post_processing_text(doi.text)\n",
    "            abstract_dict = {\"title\": title_edit, \"author\": author_edit, \"journal\": journal_edit,\n",
    "                             \"year\": year_edit, \"doi\": doi_edit, \"abstract\": abstract.text}\n",
    "            crawling_result_list.append(abstract_dict)  \n",
    "    #  list to data.frame\n",
    "    if ~Path(\"kiss/\").exists():\n",
    "        Path.mkdir(\"kiss/\")\n",
    "    df = pd.DataFrame(crawling_result_list)\n",
    "    df.to_csv(f\"kiss/kiss_{keyword}.csv\")"
   ]
  },
  {
   "cell_type": "code",
   "execution_count": 52,
   "metadata": {},
   "outputs": [
    {
     "name": "stdout",
     "output_type": "stream",
     "text": [
      "2 Popup closed.\n",
      "Crawling URLs Done!\n"
     ]
    },
    {
     "name": "stderr",
     "output_type": "stream",
     "text": [
      "Processing items: 100%|██████████| 5/5 [00:35<00:00,  7.08s/it]\n"
     ]
    },
    {
     "name": "stdout",
     "output_type": "stream",
     "text": [
      "Crawling source finishhed!\n"
     ]
    },
    {
     "name": "stderr",
     "output_type": "stream",
     "text": [
      "100%|██████████| 5/5 [00:00<00:00, 51.87it/s]\n"
     ]
    }
   ],
   "source": [
    "kiss_crawling(\"pharmacist\")"
   ]
  }
 ],
 "metadata": {
  "kernelspec": {
   "display_name": "Python 3",
   "language": "python",
   "name": "python3"
  },
  "language_info": {
   "codemirror_mode": {
    "name": "ipython",
    "version": 3
   },
   "file_extension": ".py",
   "mimetype": "text/x-python",
   "name": "python",
   "nbconvert_exporter": "python",
   "pygments_lexer": "ipython3",
   "version": "3.11.2"
  },
  "orig_nbformat": 4
 },
 "nbformat": 4,
 "nbformat_minor": 2
}
