{
 "cells": [
  {
   "cell_type": "code",
   "execution_count": 1,
   "metadata": {},
   "outputs": [],
   "source": [
    "from selenium import webdriver as wd\n",
    "from selenium.webdriver.common.by import By\n",
    "from selenium.webdriver.support.ui import WebDriverWait\n",
    "from selenium.webdriver.support import expected_conditions as EC\n",
    "from selenium.webdriver.chrome.service import Service\n",
    "from webdriver_manager.chrome import ChromeDriverManager\n",
    "from bs4 import BeautifulSoup\n",
    "import time\n",
    "import pandas as pd\n",
    "import requests\n",
    "import re\n",
    "from selenium.webdriver.common.keys import Keys\n",
    "from tqdm import tqdm\n",
    "from pathlib import Path"
   ]
  },
  {
   "cell_type": "code",
   "execution_count": 22,
   "metadata": {},
   "outputs": [],
   "source": [
    "def closePopup(driver):\n",
    "    # popup = driver.find_elements(By.CSS_SELECTOR, selector_popup)\n",
    "    # for i in range(len(popup)):\n",
    "    #     popup[i].click()\n",
    "    tabs =  driver.window_handles\n",
    "    while len(tabs) != 1:\n",
    "        driver.switch_to.window(tabs[1])\n",
    "        driver.close()\n",
    "        tabs = driver.window_handles\n",
    "    driver.switch_to.window(tabs[0])\n",
    "    # print(f\"{len(popup)} Popup closed.\")\n",
    "\n",
    "def searchKeywords(driver, selector, keyword):\n",
    "    search = WebDriverWait(driver, 10).until(EC.presence_of_element_located((By.CSS_SELECTOR, selector)))\n",
    "    search.click()\n",
    "    search.send_keys(keyword)\n",
    "    search.send_keys(Keys.RETURN)\n",
    "\n"
   ]
  },
  {
   "cell_type": "code",
   "execution_count": 25,
   "metadata": {},
   "outputs": [],
   "source": [
    "def riss_crawling(keyword):\n",
    "    driver = wd.Chrome(service=Service(ChromeDriverManager().install()))\n",
    "    driver.get(\"http://www.riss.or.kr/index.do\")\n",
    "\n",
    "    # # popup\n",
    "    # selector_popup_close = \"body > div.pBottom > div > a\"\n",
    "    closePopup(driver)\n",
    "    time.sleep(3)\n",
    "    # keyword\n",
    "    keyword_selector = \"input#query\"\n",
    "    searchKeywords(driver, keyword_selector, keyword)"
   ]
  },
  {
   "cell_type": "code",
   "execution_count": 26,
   "metadata": {},
   "outputs": [],
   "source": [
    "riss_crawling(\"covid19\")"
   ]
  },
  {
   "cell_type": "code",
   "execution_count": null,
   "metadata": {},
   "outputs": [],
   "source": []
  }
 ],
 "metadata": {
  "kernelspec": {
   "display_name": "Python 3",
   "language": "python",
   "name": "python3"
  },
  "language_info": {
   "codemirror_mode": {
    "name": "ipython",
    "version": 3
   },
   "file_extension": ".py",
   "mimetype": "text/x-python",
   "name": "python",
   "nbconvert_exporter": "python",
   "pygments_lexer": "ipython3",
   "version": "3.11.2"
  },
  "orig_nbformat": 4
 },
 "nbformat": 4,
 "nbformat_minor": 2
}
